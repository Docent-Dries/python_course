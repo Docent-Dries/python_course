{
 "cells": [
  {
   "cell_type": "markdown",
   "metadata": {},
   "source": [
    "# Milestone Project 1 - Tic Tac Toe\n",
    "\n",
    "\n",
    "The assignment: Create a Tic Tac Toe game.\n",
    "\n",
    "Here are the requirements:\n",
    "\n",
    "* 2 players should be able to play the game (both sitting at the same computer)\n",
    "* The board should be printed out every time a player makes a move\n",
    "* You should be able to accept input of the player position and then place a symbol on the board"
   ]
  },
  {
   "cell_type": "markdown",
   "metadata": {},
   "source": [
    "There are parts of this that will be a struggle...and that is good! I have complete faith that if you have made it this far through the course you have all the tools and knowledge to tackle this project. Remember, it's totally open book, so take your time, do a little research, and remember:\n",
    "\n",
    "## HAVE FUN!"
   ]
  },
  {
   "cell_type": "code",
   "execution_count": 1,
   "metadata": {
    "collapsed": true
   },
   "outputs": [],
   "source": [
    "# defining a function to show the board --- using a lot of print functions\n",
    "\n",
    "from IPython.display import clear_output\n",
    "\n",
    "def board(board_dict):\n",
    "    \n",
    "    #first clear output\n",
    "    clear_output()\n",
    "    \n",
    "    print('   |   |   ')\n",
    "    print(f' '+board_dict[7]+' | '+board_dict[8]+' | '+board_dict[9]+' ')\n",
    "    print('   |   |   ')\n",
    "    print('---|---|---')\n",
    "    print('   |   |   ')\n",
    "    print(f' '+board_dict[4]+' | '+board_dict[5]+' | '+board_dict[6]+' ')\n",
    "    print('   |   |   ')\n",
    "    print('---|---|---')\n",
    "    print('   |   |   ')\n",
    "    print(f' '+board_dict[1]+' | '+board_dict[2]+' | '+board_dict[3]+' ')\n",
    "    print('   |   |   ')\n",
    "    \n"
   ]
  },
  {
   "cell_type": "code",
   "execution_count": 2,
   "metadata": {
    "collapsed": true
   },
   "outputs": [],
   "source": [
    "# The definition of player \"X\" or \"O\"\n",
    "\n",
    "def choose_user():\n",
    "    while True:\n",
    "        XorO = input(' ')\n",
    "        if XorO.upper() == 'X':\n",
    "            return 'Nice, Player 1 will start with X'\n",
    "#            I do not already know if I want to use the \"player names\" later, but gives the option by declaring them\n",
    "#            x = 'Player 1'\n",
    "#            o = 'Player 2'\n",
    "#            return x \n",
    "#            return o \n",
    "            break\n",
    "        elif XorO.upper() == 'O':\n",
    "            return 'Thanks, Player 2 will start with X'\n",
    "#            x = 'Player 2'\n",
    "#            o = 'Player 1'\n",
    "#            return x \n",
    "#            return o \n",
    "            break\n",
    "        else:\n",
    "            # Defensive --> if another character then X or O is used\n",
    "            print(\"Mmmm... seems you made a strange choice, try again\")\n",
    "            continue"
   ]
  },
  {
   "cell_type": "code",
   "execution_count": 3,
   "metadata": {
    "collapsed": true
   },
   "outputs": [],
   "source": [
    "def initiate_game():\n",
    "    # First I draw the board\n",
    "    # I have the feeling that this can be done much more effecient, but hey - it seems to work! It reads quite nicely..\n",
    "    \n",
    "    #first clear output\n",
    "    clear_output()  \n",
    "    \n",
    "    print('Welcome to the game of Tic Tac Toe')\n",
    "    print('The gameboard corresponds to the numpad of the keyboard')\n",
    "    print('      ')\n",
    "    print('   |   |   ')\n",
    "    print(' 7 | 8 | 9 ')\n",
    "    print('   |   |   ')\n",
    "    print('---|---|---')\n",
    "    print('   |   |   ')\n",
    "    print(' 4 | 5 | 6 ')\n",
    "    print('   |   |   ')\n",
    "    print('---|---|---')\n",
    "    print('   |   |   ')\n",
    "    print(' 1 | 2 | 3 ')\n",
    "    print('      ')\n",
    "    print('      ')\n",
    "    print('Are you ready to play?')\n",
    "    print('      ')\n",
    "    print('Player 1, do you want to be X or O') "
   ]
  },
  {
   "cell_type": "code",
   "execution_count": 4,
   "metadata": {
    "collapsed": true
   },
   "outputs": [],
   "source": [
    "# Each move a check needs to be done if the game has ended, and who would have won.\n",
    "\n",
    "def check_win(board_dict):\n",
    "    if board_dict[1]+board_dict[2]+board_dict[3] == 'XXX' or board_dict[4]+board_dict[5]+board_dict[6] == 'XXX' or board_dict[7]+board_dict[8]+board_dict[9] == 'XXX' or board_dict[1]+board_dict[4]+board_dict[7] == 'XXX' or board_dict[2]+board_dict[5]+board_dict[8] == 'XXX' or board_dict[3]+board_dict[6]+board_dict[9] == 'XXX' or board_dict[1]+board_dict[5]+board_dict[9] == 'XXX' or board_dict[3]+board_dict[5]+board_dict[7] == 'XXX':\n",
    "        return True\n",
    "    elif board_dict[1]+board_dict[2]+board_dict[3] == 'OOO' or board_dict[4]+board_dict[5]+board_dict[6] == 'OOO' or board_dict[7]+board_dict[8]+board_dict[9] == 'OOO' or board_dict[1]+board_dict[4]+board_dict[7] == 'OOO' or board_dict[2]+board_dict[5]+board_dict[8] == 'OOO' or board_dict[3]+board_dict[6]+board_dict[9] == 'OOO' or board_dict[1]+board_dict[5]+board_dict[9] == 'OOO' or board_dict[3]+board_dict[5]+board_dict[7] == 'OOO':\n",
    "        return True\n",
    "    else:\n",
    "        pass"
   ]
  },
  {
   "cell_type": "code",
   "execution_count": 5,
   "metadata": {
    "collapsed": true
   },
   "outputs": [],
   "source": [
    "# When a game has ended, this is to ask the player(s) to restart the game or not\n",
    "\n",
    "def play_again():\n",
    "    again = input('Do you want to play again? (Y / N)')\n",
    "    if again.upper() == 'N':\n",
    "        clear_output()\n",
    "        print('See you next time!')\n",
    "    elif again.upper() == 'Y':\n",
    "        start_game()\n",
    "    else:\n",
    "        print('Please enter Y (yes) or N (no).')\n",
    "        play_again()"
   ]
  },
  {
   "cell_type": "code",
   "execution_count": 6,
   "metadata": {
    "collapsed": true
   },
   "outputs": [],
   "source": [
    "# function to start the game \n",
    "\n",
    "def start_game():\n",
    "    initiate_game()\n",
    " \n",
    "    #First the players have to start the game by giving their start 'X'or 'O'\n",
    "    choose_user()\n",
    "    \n",
    "    #This is the board that will fill the matrix\n",
    "    board_dict = {1:' ', 2:' ',3:' ',4:' ',5:' ',6:' ',7:' ',8:' ',9:' '}  \n",
    "    \n",
    "    #This is the check-board where values are deleted when used\n",
    "    board_check = {1:'a', 2:'b',3:'c',4:'d',5:'e',6:'f',7:'g',8:'h',9:'i'}\n",
    "    \n",
    "    play_round= 0\n",
    "    while board_check != {}:\n",
    "        if play_round%2==0:\n",
    "            #Player enters a number\n",
    "            round_input = int(input(\"give me a number, between 1 and 9: \"))\n",
    "            if round_input in board_check:\n",
    "                #Now the idea is to get the number (use it to display)\n",
    "                board_dict[round_input] = 'X'\n",
    "                #Then remove the value from the dictionary, so it cannot be used again (error must be raised)\n",
    "                del board_check[round_input]\n",
    "                board(board_dict)\n",
    "                if check_win(board_dict) == True:\n",
    "                    print('Congratulations X has won!')\n",
    "                    break\n",
    "                else:\n",
    "                    pass\n",
    "                play_round +=1\n",
    "            else:\n",
    "                #When the number is not in range, the possible values will be given\n",
    "                print('Number out of range, you can still use the following numbers:')\n",
    "                print(list(board_check.keys()))\n",
    "                continue\n",
    "        else:\n",
    "            #Player enters a number\n",
    "            round_input = int(input(\"give me a number, between 1 and 9: \"))\n",
    "            if round_input in board_check:\n",
    "                #Now the idea is to get the number (use it to display)\n",
    "                board_dict[round_input] = 'O'\n",
    "                #Then remove the value from the dictionary, so it cannot be used again (error must be raised)\n",
    "                del board_check[round_input]\n",
    "                board(board_dict)\n",
    "                if check_win(board_dict) == True:\n",
    "                    print('Congratulations O has won!')\n",
    "                    break\n",
    "                else:\n",
    "                    pass\n",
    "                play_round +=1\n",
    "            else:\n",
    "                #When the number is not in range, the possible values will be given\n",
    "                print('Number out of range, you can still use the following numbers:')\n",
    "                print(list(board_check.keys()))\n",
    "                continue\n",
    "        if board_check == {}:\n",
    "            print('The game is a draw!')\n",
    "        else:\n",
    "            pass\n",
    "    play_again()"
   ]
  },
  {
   "cell_type": "code",
   "execution_count": 7,
   "metadata": {},
   "outputs": [
    {
     "name": "stdout",
     "output_type": "stream",
     "text": [
      "See you next time!\n"
     ]
    }
   ],
   "source": [
    "start_game()"
   ]
  },
  {
   "cell_type": "code",
   "execution_count": null,
   "metadata": {
    "collapsed": true
   },
   "outputs": [],
   "source": []
  }
 ],
 "metadata": {
  "celltoolbar": "Raw Cell Format",
  "kernelspec": {
   "display_name": "Python 3",
   "language": "python",
   "name": "python3"
  },
  "language_info": {
   "codemirror_mode": {
    "name": "ipython",
    "version": 3
   },
   "file_extension": ".py",
   "mimetype": "text/x-python",
   "name": "python",
   "nbconvert_exporter": "python",
   "pygments_lexer": "ipython3",
   "version": "3.6.1"
  }
 },
 "nbformat": 4,
 "nbformat_minor": 1
}
